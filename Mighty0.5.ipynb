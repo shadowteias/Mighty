{
 "cells": [
  {
   "cell_type": "code",
   "execution_count": 11,
   "metadata": {},
   "outputs": [],
   "source": [
    "import sys, os\n",
    "import pandas as pd\n",
    "import numpy as np\n",
    "import json\n",
    "%matplotlib inline\n",
    "import matplotlib.pyplot as plt\n",
    "from IPython.core.display import display\n",
    "from IPython.core.display import HTML\n",
    "\n",
    "import seaborn as sns\n",
    "from scipy import stats\n",
    "import matplotlib as mpl\n",
    "\n",
    "# import tensorflow as tf"
   ]
  },
  {
   "cell_type": "markdown",
   "metadata": {},
   "source": [
    "\"Who needs friends? Zanzil just makes his own!\"\n",
    "\n",
    "친구가 없으면 어때, 잔질처럼 이렇게 만들면 되는데!  \n",
    "\n",
    "WOW Zul'Gurub Zanzil\n",
    "\n",
    "와우 줄구룹 잔질, 의술사"
   ]
  },
  {
   "cell_type": "markdown",
   "metadata": {},
   "source": [
    "### 클래스 목록\n",
    "- AI플레이어\n",
    "- 유저\n",
    "- 카드 덱\n",
    "\n",
    "### 설정 값\n",
    "- 게임 세팅\n",
    "- 유저 수\n",
    "\n",
    "### 플레이 함수\n",
    "- 카드 돌리기\n",
    "- 딜미스 판단\n",
    "- 공약\n",
    "- 기루다, 조커콜, 마이티 선언\n",
    "- 주공이 프랜드 선택\n",
    "- 플레이 시작하기\n",
    "\n",
    "### 초반 구현 필요한 부분\n",
    "- 룰대로 게임이 돌아가는것\n",
    "- AI개발모드(플레이어 없이/있이 플레이 가능하게)\n",
    "\n",
    "### 중반 구현 필요\n",
    "- AI, 인터페이스, 그래픽, 변형룰 옵션, 누적 점수 계산\n",
    "\n",
    "### 후반 구현\n",
    "- 앱으로 만들기\n",
    "- 플레이스토어 등록\n",
    "\n",
    "### 최후반 옵션\n",
    "- 리플레이 저장하면 어떨까?\n",
    "    - 어케 해야 마이티 잘하는지 컴한테 배우게 ㅋㅋㅋㅋ"
   ]
  },
  {
   "cell_type": "raw",
   "metadata": {},
   "source": [
    "카드:53개 (13*4+1)\n",
    "H - 하트, 트 \n",
    "S - 스페이드, 삽\n",
    "C - 클럽, 끌\n",
    "D - 다이아몬드, 다리\n",
    "조커\n",
    "\n",
    "SA: 마이티\n",
    "C3: 조커콜\n",
    "점수카드: A(아), K(카), Q(쿠), J(자), 10(텐)\n",
    "\n",
    "선이 낸 카드의 무늬가 우선순위\n",
    "\n",
    "마이티: SA, S가 기루다일 땐 DA(빨마,빨강마이티)\n",
    "조커콜: C3, C가 기루다일 땐 S3(관악, 경기에선 H3)\n",
    "\n",
    "보통턴 우선순위: \n",
    "    - 마이티, 조커, 기루다(AKQJT98765432), 선카(AKQJT98765432)\n",
    "첫턴, 막턴 우선순위: \n",
    "    - 마이티, 조커, 기루다(AKQJT98765432), 선카(AKQJT98765432)\n",
    "\n",
    "선이 조커를 낼 땐 무늬를 선택해야 함\n",
    "\n",
    "선이 낸 카드와 같은 무늬를 내야 함. 그 무늬가 없을 때 다른 무늬를 낼 수 있다!!! (이 규칙으로 딸마를 유도할수도 있고)\n",
    "\n",
    "주공이 먹은 점수카드는 뒤집어서 모으고, 야당은 자기 앞에 늘어놓는다. \n",
    "프랜드가 밝혀지면 프랜드의 그동안 모은 점카도 엎어놓고, 앞으로 먹는것도 엎는다. \n",
    "\n",
    "마이티는 언제든 낼 수 있다.\n",
    "주공은 첫턴에 기루다를 낼 수 없다. 단, 주공을 제외한 모두는 가능하다.\n",
    "조커는 첫턴 막턴에 효과없음.\n",
    "첫턴엔 조커, 기루 노파워임.\n",
    "\n",
    "조커콜 나왔을 때 내가 조커/마이티 둘 다 있으면 마이티로 방어 가능.\n",
    "\n",
    "선이 조커일 땐 모양을 지정해야 한다."
   ]
  },
  {
   "cell_type": "code",
   "execution_count": null,
   "metadata": {},
   "outputs": [],
   "source": [
    "import gamefunctions as gf\n",
    "from player import Player\n",
    "from user import User\n",
    "from environment import Environment\n",
    "\n",
    "import re, random"
   ]
  },
  {
   "cell_type": "code",
   "execution_count": null,
   "metadata": {},
   "outputs": [],
   "source": [
    "# from gamefunctions import *"
   ]
  },
  {
   "cell_type": "markdown",
   "metadata": {},
   "source": [
    "## 진행"
   ]
  },
  {
   "cell_type": "code",
   "execution_count": 2,
   "metadata": {},
   "outputs": [],
   "source": [
    "env = Environment()\n",
    "# 룰 세팅\n",
    "playerNumber, rule = gf.ruleSetting()\n",
    "\n",
    "# 덱 생성\n",
    "deck = gf.deckGenerator()\n",
    "# 무덤 선언\n",
    "grave = []"
   ]
  },
  {
   "cell_type": "code",
   "execution_count": 3,
   "metadata": {},
   "outputs": [],
   "source": [
    "### main\n",
    "\n",
    "# 룰에 따른 플레이어 수 맞추기\n",
    "if rule == \"defalt\":\n",
    "    k = 1\n",
    "elif rule == \"AIs\":\n",
    "    k = 0\n",
    "else: print('!!! Setting Error !!!')\n",
    "\n",
    "# 플레이어 생성\n",
    "players = list(range(0,playerNumber))\n",
    "playerName = ['윤희', '상훈', '예찬', '광호', '길용', '루피']\n",
    "# random.shuffle(playerName)\n",
    "for i in range(playerNumber-k):\n",
    "    players[i] = Player()\n",
    "    players[i].name = playerName[i]\n",
    "#     print(players[i].name) #체크포인트, cp, 사실 별 필요 없음.\n",
    "if k == 1:\n",
    "    players[playerNumber-1] = User() #유저(닝겐)은 특별취급~!\n",
    "    players[playerNumber-1].name = playerName[playerNumber-1]\n",
    "#     print(players[playerNumber-1].name)\n",
    "\n",
    "# 포지션을 정한다...\n",
    "# position = [0,1,2,3,4]\n",
    "turn = list(range(0,playerNumber)) #턴(포지션으로 생각해도됨), 게임을 끝내고 새게임 시작할때 바꿀 수 있을.\n",
    "random.shuffle(turn)\n",
    "env.locations = turn"
   ]
  },
  {
   "cell_type": "code",
   "execution_count": 4,
   "metadata": {},
   "outputs": [],
   "source": [
    "# for i in 0,1,2,3,4:\n",
    "#     print(players[i].name + str(sorted(players[i].hand)))"
   ]
  },
  {
   "cell_type": "code",
   "execution_count": 5,
   "metadata": {
    "scrolled": false
   },
   "outputs": [
    {
     "name": "stdout",
     "output_type": "stream",
     "text": [
      "[['joker', 0], ['S', 14], ['S', 13]]\n"
     ]
    }
   ],
   "source": [
    "# 카드 나눠주기 & 딜미스 판단\n",
    "mighty, jokerCall = gf.setMightyJokercall()\n",
    "joker = ['joker', 0]\n",
    "\n",
    "missCount = playerNumber #딜미스 카운트\n",
    "while missCount>0:\n",
    "    grave = gf.handout(players, deck, grave)\n",
    "    missCount = playerNumber\n",
    "    for i in range(playerNumber):\n",
    "        if gf.dealCount(players[i].hand) >=2: missCount -=1\n",
    "#     if k ==1:\n",
    "#         if dealCount(user.hand)>=2: missCount -=1\n",
    "#     print(missCount)\n",
    "    if missCount>0: print('Miss!')\n",
    "print(grave)"
   ]
  },
  {
   "cell_type": "code",
   "execution_count": 27,
   "metadata": {},
   "outputs": [
    {
     "name": "stdout",
     "output_type": "stream",
     "text": [
      "\n",
      "길용's bidding is: , 0\n",
      "\n",
      "상훈's bidding is: , 1\n",
      "\n",
      "예찬's bidding is: noKiru, 11\n",
      "\n",
      "윤희's bidding is: , 1\n",
      "\n",
      "광호's bidding is: , 1\n",
      "\n",
      "길용's bidding is: , 0\n",
      "\n",
      "상훈's bidding is: , 1\n"
     ]
    }
   ],
   "source": [
    "# 주공 공약\n",
    "biddingCount = playerNumber\n",
    "turnCount = 0\n",
    "others = [\"\",0]\n",
    "preOthers = [\"\",11]\n",
    "kingNo = 0\n",
    "\n",
    "# for i in turn:\n",
    "Jugong = 0 #주공: players[turn[Jugong]]\n",
    "turnStart = 0 #매 턴 시작을 누가하는지 (첫턴엔 주공, 그다음부턴 이긴사람)\n",
    "while biddingCount >0:\n",
    "    others = players[turn[turnCount]].pledge(preOthers) #인자로 다른애들 공약을 넣어야 \n",
    "    print(\"\")\n",
    "    adjustment = 0\n",
    "    if others[0] == 'noGiru':\n",
    "        adjustment = 1\n",
    "    if others[1]>preOthers[1] - adjustment:\n",
    "        preOthers = others\n",
    "        kingNo = turn[turnCount]\n",
    "        biddingCount = playerNumber-1\n",
    "        \n",
    "    else: biddingCount -=1\n",
    "    print(players[turn[turnCount]].name+\"'s bidding is: \"+str(others[0]) + \", \" +str(others[1]))\n",
    "    \n",
    "    # 원형 큐 처럼 반복되게 하는거... 나는 바보같은 방법밖에 생각안나네 ㅠ\n",
    "    if turnCount < playerNumber-1:\n",
    "        turnCount+= 1\n",
    "    else: turnCount = 0\n",
    "    \n",
    "    if biddingCount == 0 :\n",
    "        players[turn[turnCount]].role = 2\n",
    "        turnStart = turnCount\n",
    "    #순서대로 공약을 한다.\n",
    "        # 공약이 안 나오면 카운트를 -1 한다\n",
    "        # 공약이 나오면 카운트를 playerNumber-1 한다\n",
    "        #계속 반복한다"
   ]
  },
  {
   "cell_type": "code",
   "execution_count": 28,
   "metadata": {},
   "outputs": [],
   "source": [
    "# 마이티: SA, S가 기루다일 땐 DA(빨마,빨강마이티)\n",
    "# 조커콜: C3, C가 기루다일 땐 S3(관악, 경기에선 H3)\n",
    "giruda = preOthers[0]\n",
    "env.giruda = giruda\n",
    "pledge = preOthers[1]\n",
    "env.bidding = pledge\n",
    "players[kingNo].role = [1,0]   #00:야당, 01:프랜드, 10: 주공\n",
    "env.setDeclarer(kingNo)\n",
    "if giruda == \"S\": mighty = ['D', 14]\n",
    "else: mighty = ['S', 14]\n",
    "if giruda == \"C\": jokerCall = ['H', 3]\n",
    "else: jokerCall = ['C', 3]    "
   ]
  },
  {
   "cell_type": "code",
   "execution_count": 29,
   "metadata": {},
   "outputs": [
    {
     "data": {
      "text/plain": [
       "['noKiru', 11]"
      ]
     },
     "execution_count": 29,
     "metadata": {},
     "output_type": "execute_result"
    }
   ],
   "source": [
    "preOthers"
   ]
  },
  {
   "cell_type": "code",
   "execution_count": 31,
   "metadata": {},
   "outputs": [
    {
     "data": {
      "text/plain": [
       "2"
      ]
     },
     "execution_count": 31,
     "metadata": {},
     "output_type": "execute_result"
    }
   ],
   "source": [
    "kingNo"
   ]
  },
  {
   "cell_type": "code",
   "execution_count": 33,
   "metadata": {},
   "outputs": [],
   "source": [
    "turnStart = kingNo\n",
    "\n",
    "def turnSetting(turnStart, turn): #턴스타트는 int, turn은 list\n",
    "    roundTurn = turn\n",
    "    while turnStart != roundTurn[0]:\n",
    "        roundTurn.append(roundTurn[0])\n",
    "        roundTurn.pop(0)\n",
    "    return roundTurn"
   ]
  },
  {
   "cell_type": "code",
   "execution_count": 35,
   "metadata": {},
   "outputs": [
    {
     "data": {
      "text/plain": [
       "[['C', 11],\n",
       " ['D', 4],\n",
       " ['D', 10],\n",
       " ['D', 12],\n",
       " ['D', 13],\n",
       " ['H', 5],\n",
       " ['H', 7],\n",
       " ['H', 11],\n",
       " ['H', 14],\n",
       " ['S', 11]]"
      ]
     },
     "execution_count": 35,
     "metadata": {},
     "output_type": "execute_result"
    }
   ],
   "source": [
    "sorted(players[kingNo].hand)"
   ]
  },
  {
   "cell_type": "code",
   "execution_count": 36,
   "metadata": {},
   "outputs": [
    {
     "data": {
      "text/plain": [
       "[['joker', 0], ['S', 14], ['S', 13]]"
      ]
     },
     "execution_count": 36,
     "metadata": {},
     "output_type": "execute_result"
    }
   ],
   "source": [
    "grave"
   ]
  },
  {
   "cell_type": "code",
   "execution_count": 37,
   "metadata": {},
   "outputs": [
    {
     "data": {
      "text/plain": [
       "'noKiru'"
      ]
     },
     "execution_count": 37,
     "metadata": {},
     "output_type": "execute_result"
    }
   ],
   "source": [
    "giruda"
   ]
  },
  {
   "cell_type": "code",
   "execution_count": 38,
   "metadata": {},
   "outputs": [],
   "source": [
    "grave = players[kingNo].kingGrave(grave, giruda)"
   ]
  },
  {
   "cell_type": "code",
   "execution_count": 39,
   "metadata": {},
   "outputs": [
    {
     "name": "stdout",
     "output_type": "stream",
     "text": [
      "[['C', 11], ['D', 10], ['D', 12], ['D', 13], ['H', 11], ['H', 14], ['S', 11], ['S', 13], ['S', 14], ['joker', 0]]\n",
      "[['D', 4], ['H', 5], ['H', 7]]\n"
     ]
    }
   ],
   "source": [
    "print(sorted(players[kingNo].hand))\n",
    "print(grave)"
   ]
  },
  {
   "cell_type": "code",
   "execution_count": 40,
   "metadata": {},
   "outputs": [
    {
     "name": "stdout",
     "output_type": "stream",
     "text": [
      "[['C', 5], ['C', 6], ['C', 7], ['C', 9], ['D', 5], ['H', 12], ['S', 2], ['S', 4], ['S', 5], ['S', 10]]\n",
      "\n",
      "[['C', 4], ['C', 12], ['C', 14], ['D', 6], ['H', 8], ['H', 13], ['S', 6], ['S', 7], ['S', 9], ['S', 12]]\n",
      "\n",
      "[['C', 11], ['D', 10], ['D', 12], ['D', 13], ['H', 11], ['H', 14], ['S', 11], ['S', 13], ['S', 14], ['joker', 0]] <-- I'm the King!!\n",
      "\n",
      "[['C', 3], ['C', 10], ['C', 13], ['D', 2], ['D', 3], ['D', 7], ['D', 14], ['H', 4], ['H', 6], ['S', 3]]\n",
      "\n",
      "[['C', 2], ['C', 8], ['D', 8], ['D', 9], ['D', 11], ['H', 2], ['H', 3], ['H', 9], ['H', 10], ['S', 8]]\n",
      "\n",
      "[['D', 4], ['H', 5], ['H', 7]] <-- This is grave\n"
     ]
    }
   ],
   "source": [
    "for i in turn:\n",
    "    if i == kingNo: print(str(sorted(players[i].hand)) + \" <-- I'm the King!!\")\n",
    "    else: print(sorted(players[i].hand))\n",
    "    print()\n",
    "print(str(grave)+' <-- This is grave')"
   ]
  },
  {
   "cell_type": "code",
   "execution_count": 41,
   "metadata": {},
   "outputs": [
    {
     "name": "stdout",
     "output_type": "stream",
     "text": [
      "['noKiru', 14]\n"
     ]
    }
   ],
   "source": [
    "## callFriend\n",
    "friendCard = players[kingNo].callFriend(giruda)\n",
    "print(friendCard)\n",
    "for i in turn:\n",
    "    if friendCard in players[i].hand:\n",
    "        players[i].role = [0,1]\n",
    "#         break\n",
    "\n",
    "# friendNo = players[kingNo].callFriend()\n",
    "# players[friendNo].role = [0,1]"
   ]
  },
  {
   "cell_type": "markdown",
   "metadata": {},
   "source": [
    "### From now on\n",
    "첫 라운드 \n",
    " - 조커 힘 약함\n",
    "\n",
    "매 라운드 \n",
    "- 핸드 1 이상인동안 반복\n",
    "- 조커 내도 됨\n",
    "\n",
    "- 선카 나오는거 보고 turnShape 정하기\n",
    "- 조커를 첫카드로 낼 때는 무슨 카드를 선카로 할 지 선택\n",
    "- player 클래스 내에 possibleCards 함수 만들기. 그 중에서 고르도록\n",
    "- pickCard 함수에서는 그 중에 랜덤하게 내기\n",
    "- 라운드에 나온 카드가 뭐였는지 기록\n",
    "- 라운드 끝날 때는 무덤에 라운드 카드 넣기\n",
    "- 무덤이 2개가 되야할듯. 1개는 kingGrave(버린 카드 3개 더 안다 남보다), 다른건 normalGrave\n"
   ]
  },
  {
   "cell_type": "code",
   "execution_count": 104,
   "metadata": {},
   "outputs": [],
   "source": [
    "# only king knows what cards are in initial grave.\n",
    "graveKing = grave.copy()\n",
    "graveNormal = grave.copy()\n",
    "roundNo = 0\n",
    "turnShape = \"\"\n",
    "roundHistory\n",
    "roundCard = [0,0,0,0,0]\n",
    "# 누가 뭘 냈는지를 기억해야 하는데, 걍 리스트로 던져주면 어떻게 알지....\n",
    "# 뭔가 방법이 필요하다.\n",
    "# 매 턴 나온 카드를 53비트로 수정해서 넣어줘야 하나...?"
   ]
  },
  {
   "cell_type": "code",
   "execution_count": null,
   "metadata": {},
   "outputs": [],
   "source": [
    "# first round\n",
    "# 줄줄이 짜는게 좋냐 함수로 만들어서 콜하는게 좋냐\n",
    "# 조커콜이 첫 카드면 조커콜 처리 함수 불러오자\n",
    "# 일단 짜보자\n",
    "\n",
    "\n",
    "\"\"\"\n",
    "첫번째 사람이 카드내기: 첫턴 아무거나 낼 수 있다 - (첫턴 한정)기루 힘 없고 조커 힘 없다\n",
    "    낸 카드에 대해서 turnShape 정해진다\n",
    "    조커콜인지 확인\n",
    "\"\"\"\n",
    "roundCards[0] = players[king].pickCard(env.bits) #말고도 giruda, round, history, score, \n",
    "\n",
    "\"\"\"\n",
    "두번째 ~ 마지막 카드내기: turnShape가 핸드에 있나/없나 에 따라서 낼 수 있는 카드가 다르다\n",
    "    카드를 낸다\n",
    "    고민... 자리에 대한 정보를 어떻게 처리할지\n",
    "    고민... 각 턴에 나온 히스토리를 어떻게 처리할지...\n",
    "\"\"\"\n",
    "\n",
    "\n",
    "\"\"\"\n",
    "결과 판단:\n",
    "    점수 누가 먹었는지 판단 --> 스코어 더한다.\n",
    "    라운드에 나온 카드는 grave에 추가한다\n",
    "    다음턴을 위해 순서를...\n",
    "자리에 대한 정보를 어떻게 tf에 넣어줄지도 고민이다....\n",
    "\"\"\""
   ]
  },
  {
   "cell_type": "code",
   "execution_count": 20,
   "metadata": {},
   "outputs": [
    {
     "data": {
      "text/plain": [
       "range(1, 5)"
      ]
     },
     "execution_count": 20,
     "metadata": {},
     "output_type": "execute_result"
    }
   ],
   "source": [
    "range(1,5)"
   ]
  },
  {
   "cell_type": "code",
   "execution_count": null,
   "metadata": {},
   "outputs": [],
   "source": []
  },
  {
   "cell_type": "code",
   "execution_count": 18,
   "metadata": {},
   "outputs": [],
   "source": [
    "import random"
   ]
  },
  {
   "cell_type": "code",
   "execution_count": 16,
   "metadata": {},
   "outputs": [],
   "source": [
    "k = ['a','b','c','d']\n",
    "a = 'a'"
   ]
  },
  {
   "cell_type": "code",
   "execution_count": 19,
   "metadata": {},
   "outputs": [
    {
     "data": {
      "text/plain": [
       "'d'"
      ]
     },
     "execution_count": 19,
     "metadata": {},
     "output_type": "execute_result"
    }
   ],
   "source": [
    "k[random.randrange(0,len(k))]"
   ]
  },
  {
   "cell_type": "code",
   "execution_count": 14,
   "metadata": {},
   "outputs": [],
   "source": [
    "k.remove(a)"
   ]
  },
  {
   "cell_type": "code",
   "execution_count": 7,
   "metadata": {},
   "outputs": [],
   "source": [
    "k.remove('b')"
   ]
  },
  {
   "cell_type": "code",
   "execution_count": 20,
   "metadata": {},
   "outputs": [
    {
     "data": {
      "text/plain": [
       "['a', 'b', 'c', 'd']"
      ]
     },
     "execution_count": 20,
     "metadata": {},
     "output_type": "execute_result"
    }
   ],
   "source": [
    "k"
   ]
  },
  {
   "cell_type": "code",
   "execution_count": null,
   "metadata": {},
   "outputs": [],
   "source": []
  },
  {
   "cell_type": "code",
   "execution_count": null,
   "metadata": {},
   "outputs": [],
   "source": []
  },
  {
   "cell_type": "code",
   "execution_count": null,
   "metadata": {},
   "outputs": [],
   "source": []
  },
  {
   "cell_type": "code",
   "execution_count": null,
   "metadata": {},
   "outputs": [],
   "source": []
  },
  {
   "cell_type": "code",
   "execution_count": null,
   "metadata": {},
   "outputs": [],
   "source": [
    "# test for the first round\n",
    "\n",
    "t = gf.roundTrun(turn, kingNo)\n",
    "\n",
    "startCard = players[t[i]].pickCard(mighty)\n",
    "if startCard[0] == 'joker':\n",
    "    turnShape = players[[turn[i]]].sayShape()\n",
    "else:\n",
    "    turnShaper = startCard[0]\n",
    "    \n",
    "for i in range(1,len(t)):\n",
    "    startCard = players[t[i]].pickCard(mighty)\n",
    "    \n",
    "    if giruda == 'noGiru'\n",
    "    \n",
    "    if startCard == jokerCall:"
   ]
  },
  {
   "cell_type": "code",
   "execution_count": 105,
   "metadata": {},
   "outputs": [],
   "source": [
    "# second ~ last rounds\n",
    "while len(players[0].hand) > 0:\n",
    "    # 첫 플레이어는 아무거나 낼 수 있다\n",
    "    ## turnShape를 선언해야 한다\n",
    "    # 두번째 플레이어부터는 \n",
    "    \n",
    "    break"
   ]
  },
  {
   "cell_type": "code",
   "execution_count": null,
   "metadata": {},
   "outputs": [],
   "source": [
    "# test for each rounds"
   ]
  },
  {
   "cell_type": "code",
   "execution_count": null,
   "metadata": {},
   "outputs": [],
   "source": []
  },
  {
   "cell_type": "code",
   "execution_count": null,
   "metadata": {},
   "outputs": [],
   "source": []
  },
  {
   "cell_type": "code",
   "execution_count": 106,
   "metadata": {},
   "outputs": [],
   "source": [
    "bits = ['0'] *53\n"
   ]
  },
  {
   "cell_type": "code",
   "execution_count": null,
   "metadata": {},
   "outputs": [],
   "source": []
  },
  {
   "cell_type": "code",
   "execution_count": 108,
   "metadata": {},
   "outputs": [
    {
     "data": {
      "text/plain": [
       "53"
      ]
     },
     "execution_count": 108,
     "metadata": {},
     "output_type": "execute_result"
    }
   ],
   "source": [
    "len(bits)"
   ]
  },
  {
   "cell_type": "code",
   "execution_count": null,
   "metadata": {},
   "outputs": [],
   "source": []
  },
  {
   "cell_type": "code",
   "execution_count": null,
   "metadata": {},
   "outputs": [],
   "source": []
  },
  {
   "cell_type": "code",
   "execution_count": null,
   "metadata": {},
   "outputs": [],
   "source": []
  },
  {
   "cell_type": "markdown",
   "metadata": {},
   "source": [
    "## 함수 연습 및 메모"
   ]
  },
  {
   "cell_type": "code",
   "execution_count": 13,
   "metadata": {},
   "outputs": [
    {
     "name": "stdout",
     "output_type": "stream",
     "text": [
      "a and b\n"
     ]
    }
   ],
   "source": [
    "print(\"{} and {}\".format(\"a\", 'b'))"
   ]
  },
  {
   "cell_type": "code",
   "execution_count": 469,
   "metadata": {},
   "outputs": [],
   "source": [
    "#핸드에서 카드 낼 때 list.() 쓰면 될듯"
   ]
  },
  {
   "cell_type": "code",
   "execution_count": 3,
   "metadata": {
    "scrolled": true
   },
   "outputs": [
    {
     "name": "stdout",
     "output_type": "stream",
     "text": [
      "\n",
      " 초고수 끝말잇기 ver.0.1\n",
      " Ctrl+Z를 입력하면 기권할 수 있습니다.\n",
      "\n",
      "--------------------------------------------------\n",
      "\n",
      " 1라운드를 시작합니다. 현재 0승 0패\n",
      "\n",
      " CPU : 령의정\n",
      "\n",
      " YOU : 정령\n",
      "\n",
      " CPU : 령출력원자로\n",
      "\n",
      " YOU : 로키\n",
      "\n",
      " CPU : 키카데오이데아\n",
      "\n",
      " YOU : 아시아\n",
      "\n",
      " CPU : 아말감농축폴라로그라프법\n",
      "\n",
      " YOU : 법학도\n",
      "\n",
      " CPU : 도급로동임금형태\n",
      "\n",
      " YOU : 태환\n",
      "\n",
      " CPU : 환경미화원\n",
      "\n",
      " YOU : 원자로\n",
      "\n",
      " CPU : 로맨티시스트\n",
      "\n",
      " YOU : 트롤\n",
      "\n",
      " CPU : 롤파쇄기\n",
      "\n",
      " YOU : 기창\n",
      "\n",
      " CPU : 창자막힘증\n",
      "\n",
      " YOU : 증축\n",
      "\n",
      " CPU : 축산작업반\n",
      "\n",
      " YOU : 반추\n",
      "\n",
      " CPU : 추종전동장치\n",
      "\n",
      " YOU : 치골\n",
      "\n",
      " CPU : 골목골목이\n",
      "\n",
      " YOU : 이재용\n",
      " [오류] 사전에 없는 단어입니다.\n",
      "\n",
      " YOU : 이빨\n",
      "\n",
      " CPU : 빨긋빨긋이\n",
      "\n",
      " YOU : 이빨\n",
      " [오류] 이미 나온 단어입니다.\n",
      "\n",
      " YOU : 이명\n",
      "\n",
      " CPU : 명충살이고치벌\n",
      "\n",
      " YOU : 벌레\n",
      "\n",
      " CPU : 레조디칼라브리아\n",
      "\n",
      " YOU : 아밀라아제\n",
      "\n",
      " CPU : 제비꼬리촉무음\n",
      "\n",
      " YOU : 음계\n",
      "\n",
      " CPU : 계미진신풍우록\n",
      "\n",
      " YOU : 록키\n",
      " [오류] 사전에 없는 단어입니다.\n",
      "\n",
      " YOU : 록음악\n",
      " [오류] 사전에 없는 단어입니다.\n",
      "\n",
      " YOU : 록\n",
      " [오류] 사전에 없는 단어입니다.\n",
      "\n",
      " YOU : 록록\n",
      " [오류] 사전에 없는 단어입니다.\n",
      "\n",
      " YOU : 녹녹\n",
      " [오류] '록' (으)로 시작하는 단어를 입력하세요.\n",
      "\n",
      " YOU : 록비\n",
      "\n",
      " CPU : 비프로레타리아\n",
      "\n",
      " YOU : 아비\n",
      "\n",
      " CPU : 비에니아프스키\n",
      "\n",
      " YOU : 키비\n",
      "\n",
      " CPU : 비자루바다지렁이\n",
      "\n",
      " YOU : \n"
     ]
    },
    {
     "ename": "IndexError",
     "evalue": "string index out of range",
     "output_type": "error",
     "traceback": [
      "\u001b[1;31m---------------------------------------------------------------------------\u001b[0m",
      "\u001b[1;31mIndexError\u001b[0m                                Traceback (most recent call last)",
      "\u001b[1;32m<ipython-input-3-8e70f82175d9>\u001b[0m in \u001b[0;36m<module>\u001b[1;34m\u001b[0m\n\u001b[0;32m     72\u001b[0m                 \u001b[0mlose\u001b[0m \u001b[1;33m+=\u001b[0m \u001b[1;36m1\u001b[0m\u001b[1;33m\u001b[0m\u001b[0m\n\u001b[0;32m     73\u001b[0m                 \u001b[1;32mbreak\u001b[0m\u001b[1;33m\u001b[0m\u001b[0m\n\u001b[1;32m---> 74\u001b[1;33m             \u001b[0mfirstLetter\u001b[0m \u001b[1;33m=\u001b[0m \u001b[0myourWord\u001b[0m\u001b[1;33m[\u001b[0m\u001b[1;36m0\u001b[0m\u001b[1;33m]\u001b[0m\u001b[1;33m\u001b[0m\u001b[0m\n\u001b[0m\u001b[0;32m     75\u001b[0m             \u001b[1;32mif\u001b[0m \u001b[0mfirstLetter\u001b[0m \u001b[1;33m!=\u001b[0m \u001b[0mlastWord\u001b[0m\u001b[1;33m[\u001b[0m\u001b[1;33m-\u001b[0m\u001b[1;36m1\u001b[0m\u001b[1;33m]\u001b[0m\u001b[1;33m:\u001b[0m\u001b[1;33m\u001b[0m\u001b[0m\n\u001b[0;32m     76\u001b[0m                 \u001b[0mprint\u001b[0m\u001b[1;33m(\u001b[0m\u001b[1;34m\" [오류] '\"\u001b[0m \u001b[1;33m+\u001b[0m \u001b[0mlastWord\u001b[0m\u001b[1;33m[\u001b[0m\u001b[1;33m-\u001b[0m\u001b[1;36m1\u001b[0m\u001b[1;33m]\u001b[0m \u001b[1;33m+\u001b[0m \u001b[1;34m\"' (으)로 시작하는 단어를 입력하세요.\"\u001b[0m\u001b[1;33m)\u001b[0m\u001b[1;33m\u001b[0m\u001b[0m\n",
      "\u001b[1;31mIndexError\u001b[0m: string index out of range"
     ]
    }
   ],
   "source": [
    "import re, random\n",
    "\n",
    "with open('dict.txt', 'rt', encoding='utf-8') as f:\n",
    "    s = f.read()\n",
    "\n",
    "pat = re.compile('^[ㄱ-ㅎ가-힣]+$')\n",
    "wordDict = dict()\n",
    "hanbangSet = set()\n",
    "\n",
    "# 한글로만 이루어져있고, 길이가 2 이상인 단어만 추출\n",
    "for i in sorted([i for i in s.split() if pat.match(i) and len(i) >= 2], key=lambda x:-len(x)):\n",
    "    if i[0] not in wordDict:\n",
    "        wordDict[i[0]] = set()\n",
    "    wordDict[i[0]].add(i)\n",
    "\n",
    "# 한방단어 제거 & 추출\n",
    "delList = list()\n",
    "for i in wordDict:\n",
    "    for j in wordDict[i]:\n",
    "        if j[-1] not in wordDict:\n",
    "            delList.append(j)\n",
    "for j in delList:\n",
    "    hanbangSet.add(j)\n",
    "    wordDict[j[0]].remove(j)\n",
    "\n",
    "print('\\n 초고수 끝말잇기 ver.0.1')\n",
    "print(' Ctrl+Z를 입력하면 기권할 수 있습니다.')\n",
    "round, win, lose = 0, 0, 0\n",
    "\n",
    "while True:\n",
    "    # 라운드 시작\n",
    "    round += 1\n",
    "    print(\"\\n\" + \"-\" * 50)\n",
    "    print(\"\\n %d라운드를 시작합니다. 현재 %d승 %d패\" % (round, win, lose))\n",
    "    lastWord = ''\n",
    "    alreadySet = set()\n",
    "    firstTurn = True\n",
    "    resetRound = False\n",
    "\n",
    "    while True:\n",
    "        # CPU 턴\n",
    "        print()\n",
    "        if firstTurn:\n",
    "            lastWord = random.choice(list(wordDict[random.choice(list(wordDict.keys()))]))\n",
    "            alreadySet.add(lastWord)\n",
    "            print(' CPU : ' + lastWord)\n",
    "            firstTurn = False\n",
    "        else:\n",
    "            firstLetter = lastWord[-1]\n",
    "            if not list(filter(lambda x: x not in alreadySet, wordDict.get(firstLetter, set()))):\n",
    "                # 라운드 종료\n",
    "                print(' CPU : ^Z')\n",
    "                print('\\n [결과] CPU가 기권했습니다. 당신의 승리입니다!')\n",
    "                win += 1\n",
    "                break\n",
    "            else:\n",
    "                nextWords = sorted(filter(lambda x: x not in alreadySet, wordDict[firstLetter]), key=lambda x:-len(x))[:random.randint(20, 50)]\n",
    "                lastWord = nextWords[random.randint(0, random.randrange(0, len(nextWords)))]\n",
    "                alreadySet.add(lastWord)\n",
    "                print(' CPU : ' + lastWord)\n",
    "\n",
    "        # 유저 턴\n",
    "        while True:\n",
    "            print()\n",
    "            try:\n",
    "                yourWord = input(' YOU : ')\n",
    "            except:\n",
    "                print('\\n [결과] 당신은 기권했습니다. CPU의 승리입니다!')\n",
    "                print(' [힌트] ', end='')\n",
    "                print(', '.join(list(filter(lambda x: x not in alreadySet, wordDict.get(lastWord[-1], set())))[:3]))\n",
    "                resetRound = True\n",
    "                lose += 1\n",
    "                break\n",
    "            firstLetter = yourWord[0]\n",
    "            if firstLetter != lastWord[-1]:\n",
    "                print(\" [오류] '\" + lastWord[-1] + \"' (으)로 시작하는 단어를 입력하세요.\")\n",
    "            elif yourWord in hanbangSet:\n",
    "                print(' [오류] 한방단어는 사용할 수 없습니다.')\n",
    "            elif yourWord in alreadySet:\n",
    "                print(' [오류] 이미 나온 단어입니다.')\n",
    "            elif yourWord not in wordDict.get(firstLetter, set()):\n",
    "                print(' [오류] 사전에 없는 단어입니다.')\n",
    "            else:\n",
    "                alreadySet.add(yourWord)\n",
    "                lastWord = yourWord\n",
    "                break\n",
    "\n",
    "        if resetRound:\n",
    "            # 라운드 종료\n",
    "            break"
   ]
  }
 ],
 "metadata": {
  "kernelspec": {
   "display_name": "Python 3",
   "language": "python",
   "name": "python3"
  },
  "language_info": {
   "codemirror_mode": {
    "name": "ipython",
    "version": 3
   },
   "file_extension": ".py",
   "mimetype": "text/x-python",
   "name": "python",
   "nbconvert_exporter": "python",
   "pygments_lexer": "ipython3",
   "version": "3.7.0"
  }
 },
 "nbformat": 4,
 "nbformat_minor": 2
}
